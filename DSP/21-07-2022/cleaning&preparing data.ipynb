{
 "cells": [
  {
   "cell_type": "markdown",
   "metadata": {},
   "source": [
    "# handling missing values"
   ]
  },
  {
   "cell_type": "code",
   "execution_count": 41,
   "metadata": {},
   "outputs": [
    {
     "name": "stdout",
     "output_type": "stream",
     "text": [
      "   S NO      NAME  AGE  SALARY GENDER   DEPT Unnamed: 6  Unnamed: 7\n",
      "0     1    Geetha   19   10000      f    cse        anu         NaN\n",
      "1     2  laxmisri   20   20000      f    cse        NaN         NaN\n",
      "2     3       sai   20   25000      m   mech        NaN         NaN\n",
      "3     4   sumathi   18   30000      f  civil        NaN         NaN\n",
      "4     5     satya   21   35000      f  civil        NaN         NaN\n",
      "5     6    kalyan   22   40000      m    ece        NaN         NaN\n",
      "6     7     madhu   19   25000      f  civil        NaN         NaN\n"
     ]
    }
   ],
   "source": [
    "import pandas as pd\n",
    "a=pd.read_csv(\"sample1.csv\")\n",
    "print(a)"
   ]
  },
  {
   "cell_type": "code",
   "execution_count": 42,
   "metadata": {},
   "outputs": [
    {
     "data": {
      "text/html": [
       "<div>\n",
       "<style scoped>\n",
       "    .dataframe tbody tr th:only-of-type {\n",
       "        vertical-align: middle;\n",
       "    }\n",
       "\n",
       "    .dataframe tbody tr th {\n",
       "        vertical-align: top;\n",
       "    }\n",
       "\n",
       "    .dataframe thead th {\n",
       "        text-align: right;\n",
       "    }\n",
       "</style>\n",
       "<table border=\"1\" class=\"dataframe\">\n",
       "  <thead>\n",
       "    <tr style=\"text-align: right;\">\n",
       "      <th></th>\n",
       "      <th>S NO</th>\n",
       "      <th>NAME</th>\n",
       "      <th>AGE</th>\n",
       "      <th>SALARY</th>\n",
       "      <th>GENDER</th>\n",
       "      <th>DEPT</th>\n",
       "      <th>Unnamed: 6</th>\n",
       "      <th>Unnamed: 7</th>\n",
       "    </tr>\n",
       "  </thead>\n",
       "  <tbody>\n",
       "    <tr>\n",
       "      <td>0</td>\n",
       "      <td>False</td>\n",
       "      <td>False</td>\n",
       "      <td>False</td>\n",
       "      <td>False</td>\n",
       "      <td>False</td>\n",
       "      <td>False</td>\n",
       "      <td>False</td>\n",
       "      <td>True</td>\n",
       "    </tr>\n",
       "    <tr>\n",
       "      <td>1</td>\n",
       "      <td>False</td>\n",
       "      <td>False</td>\n",
       "      <td>False</td>\n",
       "      <td>False</td>\n",
       "      <td>False</td>\n",
       "      <td>False</td>\n",
       "      <td>True</td>\n",
       "      <td>True</td>\n",
       "    </tr>\n",
       "    <tr>\n",
       "      <td>2</td>\n",
       "      <td>False</td>\n",
       "      <td>False</td>\n",
       "      <td>False</td>\n",
       "      <td>False</td>\n",
       "      <td>False</td>\n",
       "      <td>False</td>\n",
       "      <td>True</td>\n",
       "      <td>True</td>\n",
       "    </tr>\n",
       "    <tr>\n",
       "      <td>3</td>\n",
       "      <td>False</td>\n",
       "      <td>False</td>\n",
       "      <td>False</td>\n",
       "      <td>False</td>\n",
       "      <td>False</td>\n",
       "      <td>False</td>\n",
       "      <td>True</td>\n",
       "      <td>True</td>\n",
       "    </tr>\n",
       "    <tr>\n",
       "      <td>4</td>\n",
       "      <td>False</td>\n",
       "      <td>False</td>\n",
       "      <td>False</td>\n",
       "      <td>False</td>\n",
       "      <td>False</td>\n",
       "      <td>False</td>\n",
       "      <td>True</td>\n",
       "      <td>True</td>\n",
       "    </tr>\n",
       "    <tr>\n",
       "      <td>5</td>\n",
       "      <td>False</td>\n",
       "      <td>False</td>\n",
       "      <td>False</td>\n",
       "      <td>False</td>\n",
       "      <td>False</td>\n",
       "      <td>False</td>\n",
       "      <td>True</td>\n",
       "      <td>True</td>\n",
       "    </tr>\n",
       "    <tr>\n",
       "      <td>6</td>\n",
       "      <td>False</td>\n",
       "      <td>False</td>\n",
       "      <td>False</td>\n",
       "      <td>False</td>\n",
       "      <td>False</td>\n",
       "      <td>False</td>\n",
       "      <td>True</td>\n",
       "      <td>True</td>\n",
       "    </tr>\n",
       "  </tbody>\n",
       "</table>\n",
       "</div>"
      ],
      "text/plain": [
       "    S NO   NAME    AGE  SALARY  GENDER   DEPT  Unnamed: 6  Unnamed: 7\n",
       "0  False  False  False   False   False  False       False        True\n",
       "1  False  False  False   False   False  False        True        True\n",
       "2  False  False  False   False   False  False        True        True\n",
       "3  False  False  False   False   False  False        True        True\n",
       "4  False  False  False   False   False  False        True        True\n",
       "5  False  False  False   False   False  False        True        True\n",
       "6  False  False  False   False   False  False        True        True"
      ]
     },
     "execution_count": 42,
     "metadata": {},
     "output_type": "execute_result"
    }
   ],
   "source": [
    "a.isnull()"
   ]
  },
  {
   "cell_type": "code",
   "execution_count": 43,
   "metadata": {},
   "outputs": [
    {
     "data": {
      "text/plain": [
       "S NO          0\n",
       "NAME          0\n",
       "AGE           0\n",
       "SALARY        0\n",
       "GENDER        0\n",
       "DEPT          0\n",
       "Unnamed: 6    6\n",
       "Unnamed: 7    7\n",
       "dtype: int64"
      ]
     },
     "execution_count": 43,
     "metadata": {},
     "output_type": "execute_result"
    }
   ],
   "source": [
    "a.isnull().sum()"
   ]
  },
  {
   "cell_type": "code",
   "execution_count": 44,
   "metadata": {},
   "outputs": [
    {
     "data": {
      "text/plain": [
       "13"
      ]
     },
     "execution_count": 44,
     "metadata": {},
     "output_type": "execute_result"
    }
   ],
   "source": [
    "a.isnull().sum().sum()"
   ]
  },
  {
   "cell_type": "code",
   "execution_count": 45,
   "metadata": {},
   "outputs": [
    {
     "data": {
      "text/html": [
       "<div>\n",
       "<style scoped>\n",
       "    .dataframe tbody tr th:only-of-type {\n",
       "        vertical-align: middle;\n",
       "    }\n",
       "\n",
       "    .dataframe tbody tr th {\n",
       "        vertical-align: top;\n",
       "    }\n",
       "\n",
       "    .dataframe thead th {\n",
       "        text-align: right;\n",
       "    }\n",
       "</style>\n",
       "<table border=\"1\" class=\"dataframe\">\n",
       "  <thead>\n",
       "    <tr style=\"text-align: right;\">\n",
       "      <th></th>\n",
       "      <th>S NO</th>\n",
       "      <th>NAME</th>\n",
       "      <th>AGE</th>\n",
       "      <th>SALARY</th>\n",
       "      <th>GENDER</th>\n",
       "      <th>DEPT</th>\n",
       "      <th>Unnamed: 6</th>\n",
       "      <th>Unnamed: 7</th>\n",
       "    </tr>\n",
       "  </thead>\n",
       "  <tbody>\n",
       "    <tr>\n",
       "      <td>0</td>\n",
       "      <td>1</td>\n",
       "      <td>Geetha</td>\n",
       "      <td>19</td>\n",
       "      <td>10000</td>\n",
       "      <td>f</td>\n",
       "      <td>cse</td>\n",
       "      <td>anu</td>\n",
       "      <td>0.0</td>\n",
       "    </tr>\n",
       "    <tr>\n",
       "      <td>1</td>\n",
       "      <td>2</td>\n",
       "      <td>laxmisri</td>\n",
       "      <td>20</td>\n",
       "      <td>20000</td>\n",
       "      <td>f</td>\n",
       "      <td>cse</td>\n",
       "      <td>0</td>\n",
       "      <td>0.0</td>\n",
       "    </tr>\n",
       "    <tr>\n",
       "      <td>2</td>\n",
       "      <td>3</td>\n",
       "      <td>sai</td>\n",
       "      <td>20</td>\n",
       "      <td>25000</td>\n",
       "      <td>m</td>\n",
       "      <td>mech</td>\n",
       "      <td>0</td>\n",
       "      <td>0.0</td>\n",
       "    </tr>\n",
       "    <tr>\n",
       "      <td>3</td>\n",
       "      <td>4</td>\n",
       "      <td>sumathi</td>\n",
       "      <td>18</td>\n",
       "      <td>30000</td>\n",
       "      <td>f</td>\n",
       "      <td>civil</td>\n",
       "      <td>0</td>\n",
       "      <td>0.0</td>\n",
       "    </tr>\n",
       "    <tr>\n",
       "      <td>4</td>\n",
       "      <td>5</td>\n",
       "      <td>satya</td>\n",
       "      <td>21</td>\n",
       "      <td>35000</td>\n",
       "      <td>f</td>\n",
       "      <td>civil</td>\n",
       "      <td>0</td>\n",
       "      <td>0.0</td>\n",
       "    </tr>\n",
       "    <tr>\n",
       "      <td>5</td>\n",
       "      <td>6</td>\n",
       "      <td>kalyan</td>\n",
       "      <td>22</td>\n",
       "      <td>40000</td>\n",
       "      <td>m</td>\n",
       "      <td>ece</td>\n",
       "      <td>0</td>\n",
       "      <td>0.0</td>\n",
       "    </tr>\n",
       "    <tr>\n",
       "      <td>6</td>\n",
       "      <td>7</td>\n",
       "      <td>madhu</td>\n",
       "      <td>19</td>\n",
       "      <td>25000</td>\n",
       "      <td>f</td>\n",
       "      <td>civil</td>\n",
       "      <td>0</td>\n",
       "      <td>0.0</td>\n",
       "    </tr>\n",
       "  </tbody>\n",
       "</table>\n",
       "</div>"
      ],
      "text/plain": [
       "   S NO      NAME  AGE  SALARY GENDER   DEPT Unnamed: 6  Unnamed: 7\n",
       "0     1    Geetha   19   10000      f    cse        anu         0.0\n",
       "1     2  laxmisri   20   20000      f    cse          0         0.0\n",
       "2     3       sai   20   25000      m   mech          0         0.0\n",
       "3     4   sumathi   18   30000      f  civil          0         0.0\n",
       "4     5     satya   21   35000      f  civil          0         0.0\n",
       "5     6    kalyan   22   40000      m    ece          0         0.0\n",
       "6     7     madhu   19   25000      f  civil          0         0.0"
      ]
     },
     "execution_count": 45,
     "metadata": {},
     "output_type": "execute_result"
    }
   ],
   "source": [
    "df=a.fillna(value=0)\n",
    "df"
   ]
  },
  {
   "cell_type": "code",
   "execution_count": 46,
   "metadata": {},
   "outputs": [
    {
     "name": "stdout",
     "output_type": "stream",
     "text": [
      "   S NO      NAME  AGE  SALARY GENDER   DEPT Unnamed: 6 Unnamed: 7\n",
      "0     1    Geetha   19   10000      f    cse        anu     geetha\n",
      "1     2  laxmisri   20   20000      f    cse     geetha     geetha\n",
      "2     3       sai   20   25000      m   mech     geetha     geetha\n",
      "3     4   sumathi   18   30000      f  civil     geetha     geetha\n",
      "4     5     satya   21   35000      f  civil     geetha     geetha\n",
      "5     6    kalyan   22   40000      m    ece     geetha     geetha\n",
      "6     7     madhu   19   25000      f  civil     geetha     geetha\n"
     ]
    }
   ],
   "source": [
    "print(a.fillna(value=\"geetha\"))"
   ]
  },
  {
   "cell_type": "code",
   "execution_count": 47,
   "metadata": {},
   "outputs": [
    {
     "name": "stdout",
     "output_type": "stream",
     "text": [
      "   S NO      NAME  AGE  SALARY GENDER   DEPT Unnamed: 6 Unnamed: 7\n",
      "0     1    Geetha   19   10000      f    cse        anu        anu\n",
      "1     2  laxmisri   20   20000      f    cse        anu        anu\n",
      "2     3       sai   20   25000      m   mech        anu        anu\n",
      "3     4   sumathi   18   30000      f  civil        anu        anu\n",
      "4     5     satya   21   35000      f  civil        anu        anu\n",
      "5     6    kalyan   22   40000      m    ece        anu        anu\n",
      "6     7     madhu   19   25000      f  civil        anu        anu\n"
     ]
    }
   ],
   "source": [
    "print(a.fillna(value=\"anu\"))"
   ]
  },
  {
   "cell_type": "code",
   "execution_count": 48,
   "metadata": {},
   "outputs": [
    {
     "name": "stdout",
     "output_type": "stream",
     "text": [
      "   S NO      NAME  AGE  SALARY GENDER   DEPT Unnamed: 6  Unnamed: 7\n",
      "0     1    Geetha   19   10000      f    cse        anu         NaN\n",
      "1     2  laxmisri   20   20000      f    cse        anu         NaN\n",
      "2     3       sai   20   25000      m   mech        anu         NaN\n",
      "3     4   sumathi   18   30000      f  civil        anu         NaN\n",
      "4     5     satya   21   35000      f  civil        anu         NaN\n",
      "5     6    kalyan   22   40000      m    ece        anu         NaN\n",
      "6     7     madhu   19   25000      f  civil        anu         NaN\n"
     ]
    }
   ],
   "source": [
    "print(a.fillna(method=\"pad\"))"
   ]
  },
  {
   "cell_type": "code",
   "execution_count": 49,
   "metadata": {},
   "outputs": [
    {
     "name": "stdout",
     "output_type": "stream",
     "text": [
      "   S NO      NAME  AGE  SALARY GENDER   DEPT Unnamed: 6  Unnamed: 7\n",
      "0     1    Geetha   19   10000      f    cse        anu         NaN\n",
      "1     2  laxmisri   20   20000      f    cse        NaN         NaN\n",
      "2     3       sai   20   25000      m   mech        NaN         NaN\n",
      "3     4   sumathi   18   30000      f  civil        NaN         NaN\n",
      "4     5     satya   21   35000      f  civil        NaN         NaN\n",
      "5     6    kalyan   22   40000      m    ece        NaN         NaN\n",
      "6     7     madhu   19   25000      f  civil        NaN         NaN\n"
     ]
    }
   ],
   "source": [
    "print(a.fillna(method=\"bfill\"))"
   ]
  },
  {
   "cell_type": "code",
   "execution_count": 50,
   "metadata": {},
   "outputs": [
    {
     "name": "stdout",
     "output_type": "stream",
     "text": [
      "  S NO      NAME AGE SALARY GENDER   DEPT Unnamed: 6 Unnamed: 7\n",
      "0    1    Geetha  19  10000      f    cse        anu        anu\n",
      "1    2  laxmisri  20  20000      f    cse        cse        cse\n",
      "2    3       sai  20  25000      m   mech       mech       mech\n",
      "3    4   sumathi  18  30000      f  civil      civil      civil\n",
      "4    5     satya  21  35000      f  civil      civil      civil\n",
      "5    6    kalyan  22  40000      m    ece        ece        ece\n",
      "6    7     madhu  19  25000      f  civil      civil      civil\n"
     ]
    }
   ],
   "source": [
    "print(a.fillna(method=\"pad\",axis=1))"
   ]
  },
  {
   "cell_type": "code",
   "execution_count": 51,
   "metadata": {},
   "outputs": [
    {
     "name": "stdout",
     "output_type": "stream",
     "text": [
      "  S NO      NAME AGE SALARY GENDER   DEPT Unnamed: 6 Unnamed: 7\n",
      "0    1    Geetha  19  10000      f    cse        anu        NaN\n",
      "1    2  laxmisri  20  20000      f    cse        NaN        NaN\n",
      "2    3       sai  20  25000      m   mech        NaN        NaN\n",
      "3    4   sumathi  18  30000      f  civil        NaN        NaN\n",
      "4    5     satya  21  35000      f  civil        NaN        NaN\n",
      "5    6    kalyan  22  40000      m    ece        NaN        NaN\n",
      "6    7     madhu  19  25000      f  civil        NaN        NaN\n"
     ]
    }
   ],
   "source": [
    "print(a.fillna(method=\"bfill\",axis=1))"
   ]
  },
  {
   "cell_type": "code",
   "execution_count": 52,
   "metadata": {},
   "outputs": [
    {
     "name": "stdout",
     "output_type": "stream",
     "text": [
      "   S NO      NAME  AGE  SALARY GENDER   DEPT Unnamed: 6  Unnamed: 7\n",
      "0     1    Geetha   19   10000      f    cse        anu   19.857143\n",
      "1     2  laxmisri   20   20000      f    cse    19.8571   19.857143\n",
      "2     3       sai   20   25000      m   mech    19.8571   19.857143\n",
      "3     4   sumathi   18   30000      f  civil    19.8571   19.857143\n",
      "4     5     satya   21   35000      f  civil    19.8571   19.857143\n",
      "5     6    kalyan   22   40000      m    ece    19.8571   19.857143\n",
      "6     7     madhu   19   25000      f  civil    19.8571   19.857143\n"
     ]
    }
   ],
   "source": [
    "print(a.fillna(value=a[\"AGE\"].mean()))"
   ]
  },
  {
   "cell_type": "code",
   "execution_count": 53,
   "metadata": {},
   "outputs": [
    {
     "name": "stdout",
     "output_type": "stream",
     "text": [
      "   S NO      NAME  AGE  SALARY GENDER   DEPT Unnamed: 6  Unnamed: 7\n",
      "0     1    Geetha   19   10000      f    cse        anu        22.0\n",
      "1     2  laxmisri   20   20000      f    cse         22        22.0\n",
      "2     3       sai   20   25000      m   mech         22        22.0\n",
      "3     4   sumathi   18   30000      f  civil         22        22.0\n",
      "4     5     satya   21   35000      f  civil         22        22.0\n",
      "5     6    kalyan   22   40000      m    ece         22        22.0\n",
      "6     7     madhu   19   25000      f  civil         22        22.0\n"
     ]
    }
   ],
   "source": [
    "print(a.fillna(value=a[\"AGE\"].max()))"
   ]
  },
  {
   "cell_type": "code",
   "execution_count": 54,
   "metadata": {},
   "outputs": [
    {
     "name": "stdout",
     "output_type": "stream",
     "text": [
      "   S NO      NAME  AGE  SALARY GENDER   DEPT Unnamed: 6  Unnamed: 7\n",
      "0     1    Geetha   19   10000      f    cse        anu        18.0\n",
      "1     2  laxmisri   20   20000      f    cse         18        18.0\n",
      "2     3       sai   20   25000      m   mech         18        18.0\n",
      "3     4   sumathi   18   30000      f  civil         18        18.0\n",
      "4     5     satya   21   35000      f  civil         18        18.0\n",
      "5     6    kalyan   22   40000      m    ece         18        18.0\n",
      "6     7     madhu   19   25000      f  civil         18        18.0\n"
     ]
    }
   ],
   "source": [
    "print(a.fillna(value=a[\"AGE\"].min()))"
   ]
  },
  {
   "cell_type": "code",
   "execution_count": 55,
   "metadata": {},
   "outputs": [
    {
     "name": "stdout",
     "output_type": "stream",
     "text": [
      "Empty DataFrame\n",
      "Columns: [S NO, NAME, AGE, SALARY, GENDER, DEPT, Unnamed: 6, Unnamed: 7]\n",
      "Index: []\n"
     ]
    }
   ],
   "source": [
    "print(a.dropna())"
   ]
  },
  {
   "cell_type": "code",
   "execution_count": 56,
   "metadata": {},
   "outputs": [
    {
     "name": "stdout",
     "output_type": "stream",
     "text": [
      "   S NO      NAME  AGE  SALARY GENDER   DEPT Unnamed: 6  Unnamed: 7\n",
      "0     1    Geetha   19   10000      f    cse        anu         NaN\n",
      "1     2  laxmisri   20   20000      f    cse        NaN         NaN\n",
      "2     3       sai   20   25000      m   mech        NaN         NaN\n",
      "3     4   sumathi   18   30000      f  civil        NaN         NaN\n",
      "4     5     satya   21   35000      f  civil        NaN         NaN\n",
      "5     6    kalyan   22   40000      m    ece        NaN         NaN\n",
      "6     7     madhu   19   25000      f  civil        NaN         NaN\n"
     ]
    }
   ],
   "source": [
    "print(a.dropna(how=\"all\"))"
   ]
  },
  {
   "cell_type": "code",
   "execution_count": 57,
   "metadata": {},
   "outputs": [
    {
     "name": "stdout",
     "output_type": "stream",
     "text": [
      "Empty DataFrame\n",
      "Columns: [S NO, NAME, AGE, SALARY, GENDER, DEPT, Unnamed: 6, Unnamed: 7]\n",
      "Index: []\n"
     ]
    }
   ],
   "source": [
    "print(a.dropna(how=\"any\"))"
   ]
  },
  {
   "cell_type": "code",
   "execution_count": 60,
   "metadata": {},
   "outputs": [
    {
     "name": "stdout",
     "output_type": "stream",
     "text": [
      "   S NO      NAME  AGE  SALARY GENDER   DEPT Unnamed: 6  Unnamed: 7\n",
      "0     1    Geetha   19   10000      f    cse        anu      2002.0\n",
      "1     2  laxmisri   20   20000      f    cse       2002      2002.0\n",
      "2     3       sai   20   25000      m   mech       2002      2002.0\n",
      "3     4   sumathi   18   30000      f  civil       2002      2002.0\n",
      "4     5     satya   21   35000      f  civil       2002      2002.0\n",
      "5     6    kalyan   22   40000      m    ece       2002      2002.0\n",
      "6     7     madhu   19   25000      f  civil       2002      2002.0\n"
     ]
    }
   ],
   "source": [
    "import numpy as np\n",
    "print(a.replace(to_replace=np.nan,value=2002))"
   ]
  },
  {
   "cell_type": "code",
   "execution_count": 64,
   "metadata": {},
   "outputs": [
    {
     "name": "stdout",
     "output_type": "stream",
     "text": [
      "   S NO      NAME  AGE  SALARY GENDER   DEPT Unnamed: 6  Unnamed: 7\n",
      "0     1    Geetha   19   10000     45    cse        anu         NaN\n",
      "1     2  laxmisri   20   20000     45    cse        NaN         NaN\n",
      "2     3       sai   20   25000      m   mech        NaN         NaN\n",
      "3     4   sumathi   18   30000     45  civil        NaN         NaN\n",
      "4     5     satya   21   35000     45  civil        NaN         NaN\n",
      "5     6    kalyan   22   40000      m    ece        NaN         NaN\n",
      "6     7     madhu   19   25000     45  civil        NaN         NaN\n"
     ]
    }
   ],
   "source": [
    "import numpy as np\n",
    "print(a.replace(to_replace=\"f\",value=45))"
   ]
  },
  {
   "cell_type": "code",
   "execution_count": null,
   "metadata": {},
   "outputs": [],
   "source": []
  },
  {
   "cell_type": "code",
   "execution_count": null,
   "metadata": {},
   "outputs": [],
   "source": []
  }
 ],
 "metadata": {
  "kernelspec": {
   "display_name": "Python 3",
   "language": "python",
   "name": "python3"
  },
  "language_info": {
   "codemirror_mode": {
    "name": "ipython",
    "version": 3
   },
   "file_extension": ".py",
   "mimetype": "text/x-python",
   "name": "python",
   "nbconvert_exporter": "python",
   "pygments_lexer": "ipython3",
   "version": "3.7.4"
  }
 },
 "nbformat": 4,
 "nbformat_minor": 2
}
