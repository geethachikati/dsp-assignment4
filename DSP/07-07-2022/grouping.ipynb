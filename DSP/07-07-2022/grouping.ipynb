{
 "cells": [
  {
   "cell_type": "markdown",
   "metadata": {},
   "source": [
    "# Grouping"
   ]
  },
  {
   "cell_type": "code",
   "execution_count": 9,
   "metadata": {
    "scrolled": true
   },
   "outputs": [
    {
     "name": "stdout",
     "output_type": "stream",
     "text": [
      "   S NO      NAME  AGE  SALARY GENDER   DEPT  Unnamed: 6  Unnamed: 7\n",
      "0     1    Geetha   19   10000      f    cse         NaN         NaN\n",
      "1     2  laxmisri   20   20000      f    cse         NaN         NaN\n",
      "2     3       sai   20   25000      m   mech         NaN         NaN\n",
      "3     4   sumathi   18   30000      f  civil         NaN         NaN\n",
      "4     5     satya   21   35000      f  civil         NaN         NaN\n",
      "5     6    kalyan   22   40000      m    ece         NaN         NaN\n",
      "6     7     madhu   19   25000      f  civil         NaN         NaN\n"
     ]
    }
   ],
   "source": [
    "import pandas as pd\n",
    "df=pd.read_csv(\"sample1.csv\")\n",
    "print(df)"
   ]
  },
  {
   "cell_type": "markdown",
   "metadata": {},
   "source": [
    "# GROUP BY FUNCTION"
   ]
  },
  {
   "cell_type": "code",
   "execution_count": null,
   "metadata": {},
   "outputs": [],
   "source": [
    "print(df.groupby([\"GENDER\"]))\n"
   ]
  },
  {
   "cell_type": "code",
   "execution_count": 5,
   "metadata": {},
   "outputs": [],
   "source": [
    "a=df.groupby([\"GENDER\",\"DEPT\"])"
   ]
  },
  {
   "cell_type": "code",
   "execution_count": 6,
   "metadata": {},
   "outputs": [
    {
     "name": "stdout",
     "output_type": "stream",
     "text": [
      "{('f', 'civil'): Int64Index([3, 4, 6], dtype='int64'), ('f', 'cse'): Int64Index([0, 1], dtype='int64'), ('m', 'ece'): Int64Index([5], dtype='int64'), ('m', 'mech'): Int64Index([2], dtype='int64')}\n"
     ]
    }
   ],
   "source": [
    "print(a.groups)"
   ]
  },
  {
   "cell_type": "code",
   "execution_count": 13,
   "metadata": {},
   "outputs": [
    {
     "name": "stdout",
     "output_type": "stream",
     "text": [
      "       S NO      NAME  AGE  SALARY GENDER  Unnamed: 6  Unnamed: 7\n",
      "DEPT                                                             \n",
      "civil     7   sumathi   21   35000      f         NaN         NaN\n",
      "cse       2  laxmisri   20   20000      f         NaN         NaN\n",
      "ece       6    kalyan   22   40000      m         NaN         NaN\n",
      "mech      3       sai   20   25000      m         NaN         NaN\n"
     ]
    }
   ],
   "source": [
    "print(df.groupby([\"DEPT\"]).max())"
   ]
  },
  {
   "cell_type": "code",
   "execution_count": null,
   "metadata": {},
   "outputs": [],
   "source": []
  }
 ],
 "metadata": {
  "kernelspec": {
   "display_name": "Python 3",
   "language": "python",
   "name": "python3"
  },
  "language_info": {
   "codemirror_mode": {
    "name": "ipython",
    "version": 3
   },
   "file_extension": ".py",
   "mimetype": "text/x-python",
   "name": "python",
   "nbconvert_exporter": "python",
   "pygments_lexer": "ipython3",
   "version": "3.7.4"
  }
 },
 "nbformat": 4,
 "nbformat_minor": 2
}
